{
  "nbformat": 4,
  "nbformat_minor": 0,
  "metadata": {
    "colab": {
      "provenance": [],
      "authorship_tag": "ABX9TyPtSffI7iASp+UCbMnj3zPG",
      "include_colab_link": true
    },
    "kernelspec": {
      "name": "python3",
      "display_name": "Python 3"
    },
    "language_info": {
      "name": "python"
    }
  },
  "cells": [
    {
      "cell_type": "markdown",
      "metadata": {
        "id": "view-in-github",
        "colab_type": "text"
      },
      "source": [
        "<a href=\"https://colab.research.google.com/github/Mukils03/Data-science-/blob/main/Numpy_task.ipynb\" target=\"_parent\"><img src=\"https://colab.research.google.com/assets/colab-badge.svg\" alt=\"Open In Colab\"/></a>"
      ]
    },
    {
      "cell_type": "code",
      "execution_count": null,
      "metadata": {
        "id": "MbqSX49qVyeS"
      },
      "outputs": [],
      "source": [
        "#import Numpy library\n",
        "import numpy as np"
      ]
    },
    {
      "cell_type": "code",
      "source": [
        "a=np.array([1,2,3])       #create one dimentional array\n",
        "b=np.array([4,5,6])       #create two dimentional array\n",
        "c=np.array([97,98,99])   #create three dimentional arrays\n",
        "print(np. concatenate([a, b]))#CONCADENATE 2 ARRAYS\n",
        "np. concatenate([a, b, c]) #CONCADENATE  3 ARRAYS"
      ],
      "metadata": {
        "colab": {
          "base_uri": "https://localhost:8080/"
        },
        "id": "2hTcQbblWI_K",
        "outputId": "72fe787d-54c8-4e4a-934d-a0b67417b591"
      },
      "execution_count": null,
      "outputs": [
        {
          "output_type": "stream",
          "name": "stdout",
          "text": [
            "[1 2 3 4 5 6]\n"
          ]
        },
        {
          "output_type": "execute_result",
          "data": {
            "text/plain": [
              "array([ 1,  2,  3,  4,  5,  6, 97, 98, 99])"
            ]
          },
          "metadata": {},
          "execution_count": 2
        }
      ]
    },
    {
      "cell_type": "code",
      "source": [
        "import numpy as np\n",
        "a = np.array([5,10,15])  #create one dimentional array\n",
        "print(a)"
      ],
      "metadata": {
        "colab": {
          "base_uri": "https://localhost:8080/"
        },
        "id": "bHDRtbgkWwha",
        "outputId": "f934f601-a0fd-4123-adee-51a536bdf969"
      },
      "execution_count": null,
      "outputs": [
        {
          "output_type": "stream",
          "name": "stdout",
          "text": [
            "[ 5 10 15]\n"
          ]
        }
      ]
    },
    {
      "cell_type": "code",
      "source": [
        "import numpy as np\n",
        "b = np.array([(9,8,7), (4,5,6)], dtype = int)          #create two dimentional arrays\n",
        "print(b)"
      ],
      "metadata": {
        "colab": {
          "base_uri": "https://localhost:8080/"
        },
        "id": "1Ih2ZLCUW32D",
        "outputId": "8310d707-8bf9-4b92-a75f-da1cc7d4a47a"
      },
      "execution_count": null,
      "outputs": [
        {
          "output_type": "stream",
          "name": "stdout",
          "text": [
            "[[9 8 7]\n",
            " [4 5 6]]\n"
          ]
        }
      ]
    },
    {
      "cell_type": "code",
      "source": [
        "import numpy as np\n",
        "b = np.array([(9,8,7), (4,5,6)], dtype = int)          #create two dimentional arrays\n",
        "print(b)"
      ],
      "metadata": {
        "colab": {
          "base_uri": "https://localhost:8080/"
        },
        "id": "5WzjVcc3W7kX",
        "outputId": "f15ebe50-d1c2-4765-c9f1-0dfde582c043"
      },
      "execution_count": null,
      "outputs": [
        {
          "output_type": "stream",
          "name": "stdout",
          "text": [
            "[[9 8 7]\n",
            " [4 5 6]]\n"
          ]
        }
      ]
    },
    {
      "cell_type": "code",
      "source": [
        "import numpy as np\n",
        "c = np.array([[(1.5,2.5,3.5), (4.5,5.5,6.5)], [(7.5,8.5,9.5), (10.5,11.5,12.5)]],dtype = float)       #create three dimentional arrays\n",
        "print(c)"
      ],
      "metadata": {
        "colab": {
          "base_uri": "https://localhost:8080/"
        },
        "id": "FUzWloqAXSff",
        "outputId": "0ec793e7-159f-4bef-d1c8-0d7eadff3bac"
      },
      "execution_count": null,
      "outputs": [
        {
          "output_type": "stream",
          "name": "stdout",
          "text": [
            "[[[ 1.5  2.5  3.5]\n",
            "  [ 4.5  5.5  6.5]]\n",
            "\n",
            " [[ 7.5  8.5  9.5]\n",
            "  [10.5 11.5 12.5]]]\n"
          ]
        }
      ]
    },
    {
      "cell_type": "code",
      "source": [
        "import numpy as np\n",
        "np.zeros((3,3))     #create zerows of array"
      ],
      "metadata": {
        "colab": {
          "base_uri": "https://localhost:8080/"
        },
        "id": "7S2ohoZkXDPF",
        "outputId": "d3a4447d-aa54-4779-e2be-9e92c04f5f6e"
      },
      "execution_count": null,
      "outputs": [
        {
          "output_type": "execute_result",
          "data": {
            "text/plain": [
              "array([[0., 0., 0.],\n",
              "       [0., 0., 0.],\n",
              "       [0., 0., 0.]])"
            ]
          },
          "metadata": {},
          "execution_count": 7
        }
      ]
    },
    {
      "cell_type": "code",
      "source": [
        "import numpy as np\n",
        "np.ones((2,4),dtype=np.int16)      #create ones of arrays"
      ],
      "metadata": {
        "colab": {
          "base_uri": "https://localhost:8080/"
        },
        "id": "L9Axxdt_XWPQ",
        "outputId": "5a00ea4f-8dc2-4018-c1a1-a7c82eff2dc0"
      },
      "execution_count": null,
      "outputs": [
        {
          "output_type": "execute_result",
          "data": {
            "text/plain": [
              "array([[1, 1, 1, 1],\n",
              "       [1, 1, 1, 1]], dtype=int16)"
            ]
          },
          "metadata": {},
          "execution_count": 9
        }
      ]
    },
    {
      "cell_type": "code",
      "source": [
        "x5=[1,2,3,4,5,6,7,8,9]\n",
        "p, q, r=np.split(x5, [3, 6])     #spilt the array\n",
        "print(p, q, r)"
      ],
      "metadata": {
        "colab": {
          "base_uri": "https://localhost:8080/"
        },
        "id": "dAJYQHvHXhGb",
        "outputId": "66d71805-64d4-40c7-9f6d-dd50e1c0c1c1"
      },
      "execution_count": null,
      "outputs": [
        {
          "output_type": "stream",
          "name": "stdout",
          "text": [
            "[1 2 3] [4 5 6] [7 8 9]\n"
          ]
        }
      ]
    },
    {
      "cell_type": "code",
      "source": [
        "grid=np.arange(16). reshape((4, 4))   #reshape the array\n",
        "upper, lower = np.vsplit(grid,[2])\n",
        "left, right=np.hsplit(grid, [2])\n",
        "print(upper)\n",
        "print(lower)\n",
        "print(left)\n",
        "print(right)"
      ],
      "metadata": {
        "colab": {
          "base_uri": "https://localhost:8080/"
        },
        "id": "V7xreKjZXljR",
        "outputId": "7e76bdbc-f60e-4992-d764-83cde3630e4a"
      },
      "execution_count": null,
      "outputs": [
        {
          "output_type": "stream",
          "name": "stdout",
          "text": [
            "[[0 1 2 3]\n",
            " [4 5 6 7]]\n",
            "[[ 8  9 10 11]\n",
            " [12 13 14 15]]\n",
            "[[ 0  1]\n",
            " [ 4  5]\n",
            " [ 8  9]\n",
            " [12 13]]\n",
            "[[ 2  3]\n",
            " [ 6  7]\n",
            " [10 11]\n",
            " [14 15]]\n"
          ]
        }
      ]
    },
    {
      "cell_type": "code",
      "source": [
        "x=np.arange(20)  #arange element below 20\n",
        "print(x)\n",
        "print(x[15: 18])\n",
        "print(x[1: 10])\n",
        "print(x[5:: 3])\n",
        "print(x[ :: -8])"
      ],
      "metadata": {
        "colab": {
          "base_uri": "https://localhost:8080/"
        },
        "id": "39lJYCRBXrvq",
        "outputId": "3b9c987d-91ed-4ae2-bb16-72caae1f15e1"
      },
      "execution_count": null,
      "outputs": [
        {
          "output_type": "stream",
          "name": "stdout",
          "text": [
            "[ 0  1  2  3  4  5  6  7  8  9 10 11 12 13 14 15 16 17 18 19]\n",
            "[15 16 17]\n",
            "[1 2 3 4 5 6 7 8 9]\n",
            "[ 5  8 11 14 17]\n",
            "[19 11  3]\n"
          ]
        }
      ]
    },
    {
      "cell_type": "code",
      "source": [
        "import numpy as np\n",
        "np.random.seed(0)\n",
        "x2 = np.random.randint(30, size=(3, 3))  #random element below 30\n",
        "print(x2)"
      ],
      "metadata": {
        "colab": {
          "base_uri": "https://localhost:8080/"
        },
        "id": "gDsxuwoPX1zf",
        "outputId": "4db83797-9c0d-4466-9638-f651a37ded94"
      },
      "execution_count": null,
      "outputs": [
        {
          "output_type": "stream",
          "name": "stdout",
          "text": [
            "[[12 15 21]\n",
            " [ 0  3 27]\n",
            " [ 3  7  9]]\n"
          ]
        }
      ]
    },
    {
      "cell_type": "code",
      "source": [
        "import numpy as np\n",
        "d = np.arange(10,20,2)  #create an array 10 to 20 the range of 2\n",
        "print(d)"
      ],
      "metadata": {
        "colab": {
          "base_uri": "https://localhost:8080/"
        },
        "id": "TZabHsjcYBpR",
        "outputId": "5790e58f-7b77-4646-9c17-8bbb637f7298"
      },
      "execution_count": null,
      "outputs": [
        {
          "output_type": "stream",
          "name": "stdout",
          "text": [
            "[10 12 14 16 18]\n"
          ]
        }
      ]
    },
    {
      "cell_type": "code",
      "source": [
        "import numpy as np\n",
        "e = np.full((2,2),7)  #fill the perticular element in full array\n",
        "print(e)"
      ],
      "metadata": {
        "colab": {
          "base_uri": "https://localhost:8080/"
        },
        "id": "4T-bA1XpYHBg",
        "outputId": "4cee94be-839f-4789-c7dc-1128a4b2a7f5"
      },
      "execution_count": null,
      "outputs": [
        {
          "output_type": "stream",
          "name": "stdout",
          "text": [
            "[[7 7]\n",
            " [7 7]]\n"
          ]
        }
      ]
    },
    {
      "cell_type": "code",
      "source": [
        "import numpy as np\n",
        "a=np.empty((3,2))   #create an empty array\n",
        "print(a)"
      ],
      "metadata": {
        "colab": {
          "base_uri": "https://localhost:8080/"
        },
        "id": "r2Vy2WKvYNLy",
        "outputId": "ec40116b-4d22-431a-fa5a-316967298e8d"
      },
      "execution_count": null,
      "outputs": [
        {
          "output_type": "stream",
          "name": "stdout",
          "text": [
            "[[4.4e-323 4.0e-323]\n",
            " [3.5e-323 2.0e-323]\n",
            " [2.5e-323 3.0e-323]]\n"
          ]
        }
      ]
    },
    {
      "cell_type": "code",
      "source": [
        "import numpy as np\n",
        "np.random.seed(0)\n",
        "x3 = np.random.randint(50, size=(1,2,3))\n",
        "print(\"x3 ndim:\", x3. ndim)     #dimention of an array\n",
        "print(\"x3 shape:\", x3. shape)     #shape of an array\n",
        "print(\"x3 size:\" , x3. size)     #size of an array\n",
        "print(\"x3 dtype:\", x3. dtype)     #data type of an array\n",
        "print(\"itemsize:\", x3.itemsize, \"bytes\")\n",
        "print(\"nbytes:\", x3.nbytes, \"bytes\")"
      ],
      "metadata": {
        "colab": {
          "base_uri": "https://localhost:8080/"
        },
        "id": "H5_pvgpoYP0O",
        "outputId": "4822f7a2-9a0f-4663-87e2-5c356a34e4d4"
      },
      "execution_count": null,
      "outputs": [
        {
          "output_type": "stream",
          "name": "stdout",
          "text": [
            "x3 ndim: 3\n",
            "x3 shape: (1, 2, 3)\n",
            "x3 size: 6\n",
            "x3 dtype: int64\n",
            "itemsize: 8 bytes\n",
            "nbytes: 48 bytes\n"
          ]
        }
      ]
    },
    {
      "cell_type": "code",
      "source": [
        "import numpy as np\n",
        "np.random.random((2,2))  #random element"
      ],
      "metadata": {
        "colab": {
          "base_uri": "https://localhost:8080/"
        },
        "id": "J-tiOah8YU5u",
        "outputId": "9e08248a-882a-4af0-e0a6-1b9a85a3bb86"
      },
      "execution_count": null,
      "outputs": [
        {
          "output_type": "execute_result",
          "data": {
            "text/plain": [
              "array([[0.4236548 , 0.64589411],\n",
              "       [0.43758721, 0.891773  ]])"
            ]
          },
          "metadata": {},
          "execution_count": 18
        }
      ]
    },
    {
      "cell_type": "code",
      "source": [
        "import numpy as np\n",
        "np.linspace(5,50,2)"
      ],
      "metadata": {
        "colab": {
          "base_uri": "https://localhost:8080/"
        },
        "id": "zzK9RBmlYhJd",
        "outputId": "d642ee5b-40f0-49bc-d85a-8a4ca41cc426"
      },
      "execution_count": null,
      "outputs": [
        {
          "output_type": "execute_result",
          "data": {
            "text/plain": [
              "array([ 5., 50.])"
            ]
          },
          "metadata": {},
          "execution_count": 19
        }
      ]
    },
    {
      "cell_type": "code",
      "source": [
        "import numpy as np\n",
        "np.linspace(5,50,2)"
      ],
      "metadata": {
        "colab": {
          "base_uri": "https://localhost:8080/"
        },
        "id": "1OsObxPjYlJa",
        "outputId": "5215d11a-87ba-4d64-b0f8-24b006baa0c7"
      },
      "execution_count": null,
      "outputs": [
        {
          "output_type": "execute_result",
          "data": {
            "text/plain": [
              "array([ 5., 50.])"
            ]
          },
          "metadata": {},
          "execution_count": 20
        }
      ]
    },
    {
      "cell_type": "code",
      "source": [
        "import numpy as np\n",
        "np.random.seed(0)\n",
        "x3 = np.random.randint(40, size=(3, 3, 3))\n",
        "print(x3)"
      ],
      "metadata": {
        "colab": {
          "base_uri": "https://localhost:8080/"
        },
        "id": "KWy4z72YYoaD",
        "outputId": "3d91ab25-950b-406a-dfa3-6c357d92615a"
      },
      "execution_count": null,
      "outputs": [
        {
          "output_type": "stream",
          "name": "stdout",
          "text": [
            "[[[ 0  3  3]\n",
            "  [39  9 19]\n",
            "  [21 36 23]]\n",
            "\n",
            " [[ 6 24 24]\n",
            "  [12  1 38]\n",
            "  [39 23 24]]\n",
            "\n",
            " [[17 37 25]\n",
            "  [13  8  9]\n",
            "  [20 16  5]]]\n"
          ]
        }
      ]
    },
    {
      "cell_type": "code",
      "source": [
        "import numpy as np\n",
        "np.random.seed(0)\n",
        "x3 = np.random.randint(40, size=(3, 3, 3))\n",
        "print(x3)"
      ],
      "metadata": {
        "colab": {
          "base_uri": "https://localhost:8080/"
        },
        "id": "ESf7B4oQYy2N",
        "outputId": "765cec5e-da2f-4b3d-b361-c42bf8d577f5"
      },
      "execution_count": null,
      "outputs": [
        {
          "output_type": "stream",
          "name": "stdout",
          "text": [
            "[[[ 0  3  3]\n",
            "  [39  9 19]\n",
            "  [21 36 23]]\n",
            "\n",
            " [[ 6 24 24]\n",
            "  [12  1 38]\n",
            "  [39 23 24]]\n",
            "\n",
            " [[17 37 25]\n",
            "  [13  8  9]\n",
            "  [20 16  5]]]\n"
          ]
        }
      ]
    },
    {
      "cell_type": "code",
      "source": [
        "print(\"sin is\",np.sin(a) )  #sin of an array\n",
        "print(\"cos is\",np.cos(a) )  #cos of an array\n",
        "print(\"tan is\",np.tan(a) )  #tan of an array"
      ],
      "metadata": {
        "colab": {
          "base_uri": "https://localhost:8080/"
        },
        "id": "9sW2tW7jY24_",
        "outputId": "f35e706d-c8ea-42ce-ff43-b7c48e6aeb72"
      },
      "execution_count": null,
      "outputs": [
        {
          "output_type": "stream",
          "name": "stdout",
          "text": [
            "sin is [[4.4e-323 4.0e-323]\n",
            " [3.5e-323 2.0e-323]\n",
            " [2.5e-323 3.0e-323]]\n",
            "cos is [[1. 1.]\n",
            " [1. 1.]\n",
            " [1. 1.]]\n",
            "tan is [[4.4e-323 4.0e-323]\n",
            " [3.5e-323 2.0e-323]\n",
            " [2.5e-323 3.0e-323]]\n"
          ]
        }
      ]
    },
    {
      "cell_type": "code",
      "source": [
        "print(np.arcsin(a) )    #arcsin of an array\n",
        "print(np.arccos(a) )    #arccos of an array\n",
        "print(np.arctan(a) )  #arctan of an array"
      ],
      "metadata": {
        "colab": {
          "base_uri": "https://localhost:8080/"
        },
        "id": "TPvOZ8h_ZNCf",
        "outputId": "909724cd-4767-4cc2-f532-163ceee6bdf8"
      },
      "execution_count": null,
      "outputs": [
        {
          "output_type": "stream",
          "name": "stdout",
          "text": [
            "[[4.4e-323 4.0e-323]\n",
            " [3.5e-323 2.0e-323]\n",
            " [2.5e-323 3.0e-323]]\n",
            "[[1.57079633 1.57079633]\n",
            " [1.57079633 1.57079633]\n",
            " [1.57079633 1.57079633]]\n",
            "[[4.4e-323 4.0e-323]\n",
            " [3.5e-323 2.0e-323]\n",
            " [2.5e-323 3.0e-323]]\n"
          ]
        }
      ]
    },
    {
      "cell_type": "code",
      "source": [
        "print(np.random.rand())\n",
        "print(np.random.randn())\n",
        "print(np.random.randint(5))\n",
        "print(np.random.shuffle([4,8,12,15]))"
      ],
      "metadata": {
        "colab": {
          "base_uri": "https://localhost:8080/"
        },
        "id": "Gu0epJ3hZW8t",
        "outputId": "93afdbda-916a-4aa2-8ccb-94d24d8de66b"
      },
      "execution_count": null,
      "outputs": [
        {
          "output_type": "stream",
          "name": "stdout",
          "text": [
            "0.7781567509498505\n",
            "-0.18158257273119596\n",
            "3\n",
            "None\n"
          ]
        }
      ]
    },
    {
      "cell_type": "code",
      "source": [
        "import numpy as np\n",
        "f = np.array([(9,8,7), (4,5,6)], dtype = int)\n",
        "g = np.array([(1,2,3), (3,5,8)], dtype = int)\n",
        "print(np.add(f,g))  #add the array element\n",
        "print(np.subtract(f,g)  )#subtract the array element\n",
        "print(np.multiply(f,g))  #multiply the array element\n",
        "print(np.divide(f,g))  #divide the array element"
      ],
      "metadata": {
        "colab": {
          "base_uri": "https://localhost:8080/"
        },
        "id": "x-aWL1rgZbcs",
        "outputId": "9d45b751-c00a-4c55-c094-2851c2cb87dd"
      },
      "execution_count": null,
      "outputs": [
        {
          "output_type": "stream",
          "name": "stdout",
          "text": [
            "[[10 10 10]\n",
            " [ 7 10 14]]\n",
            "[[ 8  6  4]\n",
            " [ 1  0 -2]]\n",
            "[[ 9 16 21]\n",
            " [12 25 48]]\n",
            "[[9.         4.         2.33333333]\n",
            " [1.33333333 1.         0.75      ]]\n"
          ]
        }
      ]
    }
  ]
}